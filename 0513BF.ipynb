{
  "nbformat": 4,
  "nbformat_minor": 0,
  "metadata": {
    "colab": {
      "private_outputs": true,
      "provenance": [],
      "authorship_tag": "ABX9TyOe7Ue/hbWWV7nNU27FIYjZ",
      "include_colab_link": true
    },
    "kernelspec": {
      "name": "python3",
      "display_name": "Python 3"
    },
    "language_info": {
      "name": "python"
    }
  },
  "cells": [
    {
      "cell_type": "markdown",
      "metadata": {
        "id": "view-in-github",
        "colab_type": "text"
      },
      "source": [
        "<a href=\"https://colab.research.google.com/github/oj-o/Art-Tech-Science/blob/main/0513BF.ipynb\" target=\"_parent\"><img src=\"https://colab.research.google.com/assets/colab-badge.svg\" alt=\"Open In Colab\"/></a>"
      ]
    },
    {
      "cell_type": "code",
      "execution_count": null,
      "metadata": {
        "id": "n6j7JnXOqlMa"
      },
      "outputs": [],
      "source": [
        "# 입력 예시)\n",
        "# 10 500\n",
        "# 93 181 245 214 315 36 185 138 216 295\n",
        "\n",
        "n, m = map(int, input().split())\n",
        "cards = list(map(int, input().split()))\n",
        "result = 0\n",
        "\n",
        "for i in range(n):\n",
        "    for j in range(i+1, n):\n",
        "        for k in range(j+1, n):\n",
        "            s = cards[i] + cards[j] + cards[k]\n",
        "            if result < s <= m:\n",
        "                result = s\n",
        "\n",
        "print(result)"
      ]
    },
    {
      "cell_type": "code",
      "source": [
        "def generator(x):\n",
        "    s = x\n",
        "    for d in str(x):\n",
        "        s += int(d)\n",
        "    return s\n",
        "\n",
        "n = int(input())\n",
        "answer = 0\n",
        "for i in range(1, n):\n",
        "    if generator(i) == n:\n",
        "        answer = i\n",
        "        break\n",
        "print(answer)"
      ],
      "metadata": {
        "id": "kN86azF5r6NU"
      },
      "execution_count": null,
      "outputs": []
    },
    {
      "cell_type": "code",
      "source": [
        "# 입력: a b c d e f\n",
        "# ax + by = c\n",
        "# dx + ey = f\n",
        "\n",
        "a, b, c, d, e, f = map(int, input().split())\n",
        "for x in range(-999, 1000):\n",
        "    for y in range(-999, 1000):\n",
        "        if a*x + b*y == c and d*x + e*y == f:\n",
        "            print(x, y)\n",
        "            exit()"
      ],
      "metadata": {
        "id": "m6DGoj0LsPBg"
      },
      "execution_count": null,
      "outputs": []
    },
    {
      "cell_type": "code",
      "source": [
        "n, m = map(int, input().split())\n",
        "board = [input().rstrip() for _ in range(n)]\n",
        "\n",
        "def repaint(x, y):\n",
        "    cnt1 = cnt2 = 0\n",
        "    for i in range(8):\n",
        "        for j in range(8):\n",
        "            expected1 = 'W' if (i+j)%2==0 else 'B'\n",
        "            expected2 = 'B' if (i+j)%2==0 else 'W'\n",
        "            if board[x+i][y+j] != expected1:\n",
        "                cnt1 += 1\n",
        "            if board[x+i][y+j] != expected2:\n",
        "                cnt2 += 1\n",
        "    return min(cnt1, cnt2)\n",
        "\n",
        "ans = float('inf')\n",
        "for i in range(n-7):\n",
        "    for j in range(m-7):\n",
        "        ans = min(ans, repaint(i, j))\n",
        "print(ans)"
      ],
      "metadata": {
        "id": "TOtRIwRosPSH"
      },
      "execution_count": null,
      "outputs": []
    },
    {
      "cell_type": "code",
      "source": [
        "n = int(input())\n",
        "count = 0\n",
        "num = 665\n",
        "while True:\n",
        "    num += 1\n",
        "    if '666' in str(num):\n",
        "        count += 1\n",
        "        if count == n:\n",
        "            print(num)\n",
        "            break"
      ],
      "metadata": {
        "id": "okvOLM3ysPWz"
      },
      "execution_count": null,
      "outputs": []
    },
    {
      "cell_type": "code",
      "source": [
        "n = int(input())\n",
        "answer = -1\n",
        "for five in range(n // 5, -1, -1):\n",
        "    if (n - 5*five) % 3 == 0:\n",
        "        three = (n - 5*five) // 3\n",
        "        answer = five + three\n",
        "        break\n",
        "print(answer)"
      ],
      "metadata": {
        "id": "Xtf4zmgNsPa5"
      },
      "execution_count": null,
      "outputs": []
    },
    {
      "cell_type": "code",
      "source": [],
      "metadata": {
        "id": "YQ7gkCgHsPeP"
      },
      "execution_count": null,
      "outputs": []
    }
  ]
}