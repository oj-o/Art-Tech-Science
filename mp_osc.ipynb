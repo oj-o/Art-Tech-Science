{
  "nbformat": 4,
  "nbformat_minor": 0,
  "metadata": {
    "colab": {
      "private_outputs": true,
      "provenance": [],
      "authorship_tag": "ABX9TyMwsIIfnucRmgG4mA/yXltc",
      "include_colab_link": true
    },
    "kernelspec": {
      "name": "python3",
      "display_name": "Python 3"
    },
    "language_info": {
      "name": "python"
    }
  },
  "cells": [
    {
      "cell_type": "markdown",
      "metadata": {
        "id": "view-in-github",
        "colab_type": "text"
      },
      "source": [
        "<a href=\"https://colab.research.google.com/github/oj-o/Art-Tech-Science/blob/main/mp_osc.ipynb\" target=\"_parent\"><img src=\"https://colab.research.google.com/assets/colab-badge.svg\" alt=\"Open In Colab\"/></a>"
      ]
    },
    {
      "cell_type": "code",
      "execution_count": null,
      "metadata": {
        "id": "CrIvmaRjI9Xk"
      },
      "outputs": [],
      "source": [
        "import mediapipe as mp\n",
        "import time\n",
        "from pythonosc import udp_client\n",
        "\n",
        "# Initialize MediaPipe Hands.\n",
        "mp_hands = mp.solutions.hands\n",
        "mp_drawing = mp.solutions.drawing_utils\n",
        "\n",
        "# Initialize OSC client.\n",
        "# Replace '127.0.0.1' with the IP address of your receiving application\n",
        "# Replace 5005 with the port your receiving application is listening on\n",
        "client = udp_client.SimpleUDPClient(\"127.0.0.1\", 5005)\n",
        "\n",
        "# Function to send hand landmark data via OSC\n",
        "def send_hand_landmarks_osc(landmarks, frame_timestamp):\n",
        "    if landmarks:\n",
        "        for hand_landmarks in landmarks:\n",
        "            for i, landmark in enumerate(hand_landmarks.landmark):\n",
        "                # Send landmark position as /hand/<landmark_index> x y z\n",
        "                client.send_message(f\"/hand/{i}\", [landmark.x, landmark.y, landmark.z])\n",
        "            # You can also send a message indicating a hand was detected\n",
        "            client.send_message(\"/hand/detected\", 1)\n",
        "    else:\n",
        "        # Send a message indicating no hand was detected\n",
        "        client.send_message(\"/hand/detected\", 0)\n",
        "\n",
        "# Example usage with a video file or webcam feed\n",
        "# In a real application, you would get frames from your video source\n",
        "# For demonstration, let's simulate processing a single frame\n",
        "# You would replace this with your actual frame processing loop\n",
        "\n",
        "# Simulate processing a frame\n",
        "# In a real scenario, you would get a frame from a video capture object (e.g., cv2.VideoCapture)\n",
        "# and pass it to hands.process()\n",
        "# Example placeholder for a frame (you would load an actual image)\n",
        "import numpy as np\n",
        "frame = np.zeros((480, 640, 3), dtype=np.uint8) # Replace with your actual frame\n",
        "\n",
        "with mp_hands.Hands(min_detection_confidence=0.5, min_tracking_confidence=0.5) as hands:\n",
        "    # Process the frame to find hand landmarks\n",
        "    results = hands.process(frame)\n",
        "\n",
        "    # Send the hand landmark data via OSC\n",
        "    # Replace 'time.time()' with the actual timestamp of the frame\n",
        "    send_hand_landmarks_osc(results.multi_hand_landmarks, time.time())\n",
        "\n",
        "    # You can add drawing code here if you want to visualize the landmarks\n",
        "    # if results.multi_hand_landmarks:\n",
        "    #     for hand_landmarks in results.multi_hand_landmarks:\n",
        "    #         mp_drawing.draw_landmarks(frame, hand_landmarks, mp_hands.HAND_CONNECTIONS)\n",
        "    # Display the frame (if you are in an environment that supports it)\n",
        "    # cv2.imshow('Hand Landmarks', frame)\n",
        "\n",
        "print(\"OSC messages sent.\")\n",
        "\n",
        "# In a real application, you would loop through frames and process them.\n",
        "# Remember to handle potential errors and resource cleanup (e.g., closing video capture).\n",
        "```"
      ]
    }
  ]
}